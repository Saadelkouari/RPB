{
 "cells": [
  {
   "cell_type": "code",
   "execution_count": 1,
   "metadata": {},
   "outputs": [],
   "source": [
    "from typing import Optional\n",
    "import re\n",
    "from pydantic import BaseModel, ValidationError, validator\n",
    "# Create your models here.\n",
    "\n",
    "class User(BaseModel):\n",
    "    _id:Optional[str]\n",
    "    username:str\n",
    "    password:str\n",
    "    email:str\n",
    "    first_name:Optional[str]\n",
    "    last_name:Optional[str]\n",
    "    @validator('username')\n",
    "    def username_alphanumeric(cls, v):\n",
    "        assert v.isalnum(), 'must be alphanumeric'\n",
    "        assert len(v)>3, 'too short username'\n",
    "        return v\n",
    "    @validator('password')\n",
    "    def password_strength(cls, v):\n",
    "        assert len(v)>8,'too short password'\n",
    "    def email_validator(cls, v):\n",
    "        assert re.match(r\"[^@]+@[^@]+\\.[^@]+\",v),'invalid email address'"
   ]
  },
  {
   "cell_type": "code",
   "execution_count": 5,
   "metadata": {},
   "outputs": [],
   "source": [
    "external_data = {'_id': 'shaisd78w7e8qw7e', 'username': 'saad','kkskd':'asdasd' ,'password': 'hhhhhhhhhhhhhhhhhhhhhhhhhh','email':'saad@gmail.com'}\n",
    "user = User(**external_data)"
   ]
  },
  {
   "cell_type": "code",
   "execution_count": 1,
   "metadata": {},
   "outputs": [],
   "source": [
    "from mongoengine import connect,disconnect"
   ]
  },
  {
   "cell_type": "code",
   "execution_count": 256,
   "metadata": {},
   "outputs": [],
   "source": [
    "from datetime import datetime\n",
    "from mongoengine import *\n",
    "from models import *\n"
   ]
  },
  {
   "cell_type": "code",
   "execution_count": 86,
   "metadata": {},
   "outputs": [
    {
     "data": {
      "text/plain": [
       "MongoClient(host=['localhost:27017'], document_class=dict, tz_aware=False, connect=True, read_preference=Primary(), uuidrepresentation=3)"
      ]
     },
     "execution_count": 86,
     "metadata": {},
     "output_type": "execute_result"
    }
   ],
   "source": [
    "connect('rpb_d')"
   ]
  },
  {
   "cell_type": "code",
   "execution_count": 1,
   "metadata": {},
   "outputs": [
    {
     "name": "stdout",
     "output_type": "stream",
     "text": [
      "[{'ID': '737115', 'Author': 'Catherine Hapka,Doug Miro,Boaz Yakin,Jordan Mechner,Carlo Bernard', 'Title': 'Prince of Persia: The Chronicle of Young Dastan', 'Publisher': 'Disney Press', 'Year': '2010', 'Pages': '', 'Language': 'English', 'Size': '567 Kb', 'Extension': 'epub', 'Mirror_1': 'http://library.lol/main/3A6467A38D3622DE2C90E32A71C71D57', 'Mirror_2': 'https://cdn1.booksdl.org/ads.php?md5=3A6467A38D3622DE2C90E32A71C71D57', 'Mirror_3': 'https://3lib.net/md5/3A6467A38D3622DE2C90E32A71C71D57', 'Mirror_4': 'https://library.bz/main/edit/3A6467A38D3622DE2C90E32A71C71D57'}, {'ID': '783371', 'Author': 'James Ponti', 'Title': 'Prince of Persia: The Sands of Time', 'Publisher': 'Disney Press', 'Year': '2010', 'Pages': '', 'Language': 'English', 'Size': '645 Kb', 'Extension': 'epub', 'Mirror_1': 'http://library.lol/main/F4875CE62F07B1E779118F2C10AAF6CA', 'Mirror_2': 'https://cdn1.booksdl.org/ads.php?md5=F4875CE62F07B1E779118F2C10AAF6CA', 'Mirror_3': 'https://3lib.net/md5/F4875CE62F07B1E779118F2C10AAF6CA', 'Mirror_4': 'https://library.bz/main/edit/F4875CE62F07B1E779118F2C10AAF6CA'}, {'ID': '867962', 'Author': 'Jordan Mechner,Danica Novgorodoff', 'Title': 'The Making of Prince of Persia: Journals 1985 - 1993', 'Publisher': 'CreateSpace Independent Publishing Platform', 'Year': '2011', 'Pages': '330', 'Language': 'English', 'Size': '4 Mb', 'Extension': 'epub', 'Mirror_1': 'http://library.lol/main/B7E62905D45966012CA769BB439C1EB6', 'Mirror_2': 'https://cdn1.booksdl.org/ads.php?md5=B7E62905D45966012CA769BB439C1EB6', 'Mirror_3': 'https://3lib.net/md5/B7E62905D45966012CA769BB439C1EB6', 'Mirror_4': 'https://library.bz/main/edit/B7E62905D45966012CA769BB439C1EB6'}, {'ID': '1120804', 'Author': 'Jordan Mechner,Danica Novgorodoff', 'Title': 'The Making of Prince of Persia: Journals 1985 - 1993', 'Publisher': 'CreateSpace Independent Publishing Platform', 'Year': '2011', 'Pages': '330', 'Language': 'English', 'Size': '2 Mb', 'Extension': 'mobi', 'Mirror_1': 'http://library.lol/main/692FE952FE1D061E32B0EB76E5771A44', 'Mirror_2': 'https://cdn1.booksdl.org/ads.php?md5=692FE952FE1D061E32B0EB76E5771A44', 'Mirror_3': 'https://3lib.net/md5/692FE952FE1D061E32B0EB76E5771A44', 'Mirror_4': 'https://library.bz/main/edit/692FE952FE1D061E32B0EB76E5771A44'}, {'ID': '1771655', 'Author': '', 'Title': 'Prince of Persia: The Sands of Time. #1', 'Publisher': '', 'Year': '', 'Pages': '[72]', 'Language': 'English', 'Size': '90 Mb', 'Extension': 'pdf', 'Mirror_1': 'http://library.lol/main/0AC54E1589B76F39F8AECD9366BEC545', 'Mirror_2': 'https://cdn1.booksdl.org/ads.php?md5=0AC54E1589B76F39F8AECD9366BEC545', 'Mirror_3': 'https://3lib.net/md5/0AC54E1589B76F39F8AECD9366BEC545', 'Mirror_4': 'https://library.bz/main/edit/0AC54E1589B76F39F8AECD9366BEC545'}]\n"
     ]
    }
   ],
   "source": [
    "from bs4 import BeautifulSoup\n",
    "from libgen_api import LibgenSearch\n",
    "import requests\n",
    "s = LibgenSearch()\n",
    "results = s.search_title(\"Prince of Persia\")[:5]\n",
    "print(results)"
   ]
  },
  {
   "cell_type": "code",
   "execution_count": 220,
   "metadata": {},
   "outputs": [
    {
     "ename": "AttributeError",
     "evalue": "'QuerySet' object has no attribute 'sort'",
     "output_type": "error",
     "traceback": [
      "\u001b[1;31m---------------------------------------------------------------------------\u001b[0m",
      "\u001b[1;31mAttributeError\u001b[0m                            Traceback (most recent call last)",
      "\u001b[1;32md:\\MongoDB\\RPB\\rpb\\recommender\\testing.ipynb Cell 7'\u001b[0m in \u001b[0;36m<cell line: 1>\u001b[1;34m()\u001b[0m\n\u001b[1;32m----> <a href='vscode-notebook-cell:/d%3A/MongoDB/RPB/rpb/recommender/testing.ipynb#ch0000006?line=0'>1</a>\u001b[0m Book\u001b[39m.\u001b[39;49mobjects\u001b[39m.\u001b[39;49mall()\u001b[39m.\u001b[39;49msort(key\u001b[39m=\u001b[39m\u001b[39mlambda\u001b[39;00m x: x[\u001b[39m\"\u001b[39m\u001b[39mstats\u001b[39m\u001b[39m\"\u001b[39m])\n",
      "\u001b[1;31mAttributeError\u001b[0m: 'QuerySet' object has no attribute 'sort'"
     ]
    }
   ],
   "source": [
    "Book.objects.all().sort(key=lambda x: x.stats)"
   ]
  },
  {
   "cell_type": "code",
   "execution_count": 231,
   "metadata": {},
   "outputs": [],
   "source": [
    "users=User.objects.all()"
   ]
  },
  {
   "cell_type": "code",
   "execution_count": 230,
   "metadata": {},
   "outputs": [
    {
     "name": "stdout",
     "output_type": "stream",
     "text": [
      "[{'_id': ObjectId('625a694dc38f7c7c75b3f0bc'), 'username': 'saad', 'password': 'passwordone', 'email': 'emailfifty@gmail.com', 'birthday': datetime.datetime(2022, 4, 27, 17, 13, 18, 860000), 'session': {'session_id': 'bf28548a0c60f54b75017614eb4e1dc8ccad46a34318ff313e9e183ac3e906d0', 'expires': datetime.datetime(2022, 4, 28, 17, 12, 43, 216000)}, 'ratings': [{'ID': ObjectId('62699f7f0dc5f49e8fc1b548'), 'rating': 2.0}, {'ID': ObjectId('62699fd30dc5f49e8fc1b549'), 'rating': 3.0}, {'ID': ObjectId('6269a0250dc5f49e8fc1b54a'), 'rating': 3.0}, {'ID': ObjectId('6269a0550dc5f49e8fc1b54b'), 'rating': 4.0}], 'genres': []}, {'_id': ObjectId('625a6d6fd1144018b9ac3e3b'), 'username': 'works', 'password': 'passwordworks', 'email': 'ilfifty@gmail.com', 'birthday': datetime.datetime(2000, 11, 23, 0, 0), 'session': {'session_id': '2b2a826bb1aee9d3b32604cb114d274fd4ea144c66fdb0748026fd6bc573b0dd', 'expires': datetime.datetime(2022, 4, 28, 18, 34, 6, 508000)}, 'ratings': [{'ID': ObjectId('6269a9660dc5f49e8fc1b54c'), 'rating': 4.0}, {'ID': ObjectId('6269a9a40dc5f49e8fc1b54d'), 'rating': 2.0}, {'ID': ObjectId('6269a9cf0dc5f49e8fc1b54e'), 'rating': 3.0}], 'genres': []}, {'_id': ObjectId('62629d6179e50a4eff48b1db'), 'username': 'saaad', 'password': 'heyheyhey', 'email': 'saaad@ai.google', 'birthday': datetime.datetime(2022, 4, 27, 22, 27, 53, 851000), 'session': {'session_id': '9c84c3971a6e8239c7a516cd336580fe224f6ab317f23ecfd1527f48b8d55f13', 'expires': datetime.datetime(2022, 4, 28, 22, 26, 3, 481000)}, 'ratings': [], 'genres': []}, {'_id': ObjectId('626824ce9f4cdb6afb787b7b'), 'username': 'user1', 'password': 'passwrod1', 'email': 'user@email.com', 'birthday': datetime.datetime(2000, 1, 23, 0, 11), 'session': {'session_id': 'fb304446af09d3623a7932118a35c227c7a0ab327d26dd91a22dce2f6b8ae19f', 'expires': datetime.datetime(2022, 4, 27, 16, 48, 21, 782000)}, 'ratings': [], 'sexe': 'M', 'genres': []}]\n"
     ]
    }
   ],
   "source": [
    "print([u.to_mongo().to_dict() for u in User.objects.all()])"
   ]
  },
  {
   "cell_type": "code",
   "execution_count": 245,
   "metadata": {},
   "outputs": [
    {
     "data": {
      "text/plain": [
       "[{'_id': ObjectId('6269a9cf0dc5f49e8fc1b54e'), 'count': 2},\n",
       " {'_id': ObjectId('6269a0250dc5f49e8fc1b54a'), 'count': 1},\n",
       " {'_id': ObjectId('6269a9660dc5f49e8fc1b54c'), 'count': 1},\n",
       " {'_id': ObjectId('6269a9a40dc5f49e8fc1b54d'), 'count': 1},\n",
       " {'_id': ObjectId('62699f7f0dc5f49e8fc1b548'), 'count': 1},\n",
       " {'_id': ObjectId('6269a0550dc5f49e8fc1b54b'), 'count': 1},\n",
       " {'_id': ObjectId('62699fd30dc5f49e8fc1b549'), 'count': 1}]"
      ]
     },
     "execution_count": 245,
     "metadata": {},
     "output_type": "execute_result"
    }
   ],
   "source": [
    "interactions_pipeline=[{\"$unwind\":\"$ratings\"},{\"$group\":{\"_id\" : \"$ratings.ID\",\"count\":{\"$sum\":1}}}, { \"$project\": { \"_id\": 1, \"count\":1} }]\n",
    "list(User.objects.aggregate(interactions_pipeline))"
   ]
  },
  {
   "cell_type": "code",
   "execution_count": 257,
   "metadata": {},
   "outputs": [
    {
     "ename": "FieldDoesNotExist",
     "evalue": "The fields \"{'image'}\" do not exist on the document \"Book\"",
     "output_type": "error",
     "traceback": [
      "\u001b[1;31m---------------------------------------------------------------------------\u001b[0m",
      "\u001b[1;31mFieldDoesNotExist\u001b[0m                         Traceback (most recent call last)",
      "File \u001b[1;32md:\\MongoDB\\RPB\\rpb-venv\\lib\\site-packages\\IPython\\core\\formatters.py:707\u001b[0m, in \u001b[0;36mPlainTextFormatter.__call__\u001b[1;34m(self, obj)\u001b[0m\n\u001b[0;32m    <a href='file:///d%3A/MongoDB/RPB/rpb-venv/lib/site-packages/IPython/core/formatters.py?line=699'>700</a>\u001b[0m stream \u001b[39m=\u001b[39m StringIO()\n\u001b[0;32m    <a href='file:///d%3A/MongoDB/RPB/rpb-venv/lib/site-packages/IPython/core/formatters.py?line=700'>701</a>\u001b[0m printer \u001b[39m=\u001b[39m pretty\u001b[39m.\u001b[39mRepresentationPrinter(stream, \u001b[39mself\u001b[39m\u001b[39m.\u001b[39mverbose,\n\u001b[0;32m    <a href='file:///d%3A/MongoDB/RPB/rpb-venv/lib/site-packages/IPython/core/formatters.py?line=701'>702</a>\u001b[0m     \u001b[39mself\u001b[39m\u001b[39m.\u001b[39mmax_width, \u001b[39mself\u001b[39m\u001b[39m.\u001b[39mnewline,\n\u001b[0;32m    <a href='file:///d%3A/MongoDB/RPB/rpb-venv/lib/site-packages/IPython/core/formatters.py?line=702'>703</a>\u001b[0m     max_seq_length\u001b[39m=\u001b[39m\u001b[39mself\u001b[39m\u001b[39m.\u001b[39mmax_seq_length,\n\u001b[0;32m    <a href='file:///d%3A/MongoDB/RPB/rpb-venv/lib/site-packages/IPython/core/formatters.py?line=703'>704</a>\u001b[0m     singleton_pprinters\u001b[39m=\u001b[39m\u001b[39mself\u001b[39m\u001b[39m.\u001b[39msingleton_printers,\n\u001b[0;32m    <a href='file:///d%3A/MongoDB/RPB/rpb-venv/lib/site-packages/IPython/core/formatters.py?line=704'>705</a>\u001b[0m     type_pprinters\u001b[39m=\u001b[39m\u001b[39mself\u001b[39m\u001b[39m.\u001b[39mtype_printers,\n\u001b[0;32m    <a href='file:///d%3A/MongoDB/RPB/rpb-venv/lib/site-packages/IPython/core/formatters.py?line=705'>706</a>\u001b[0m     deferred_pprinters\u001b[39m=\u001b[39m\u001b[39mself\u001b[39m\u001b[39m.\u001b[39mdeferred_printers)\n\u001b[1;32m--> <a href='file:///d%3A/MongoDB/RPB/rpb-venv/lib/site-packages/IPython/core/formatters.py?line=706'>707</a>\u001b[0m printer\u001b[39m.\u001b[39;49mpretty(obj)\n\u001b[0;32m    <a href='file:///d%3A/MongoDB/RPB/rpb-venv/lib/site-packages/IPython/core/formatters.py?line=707'>708</a>\u001b[0m printer\u001b[39m.\u001b[39mflush()\n\u001b[0;32m    <a href='file:///d%3A/MongoDB/RPB/rpb-venv/lib/site-packages/IPython/core/formatters.py?line=708'>709</a>\u001b[0m \u001b[39mreturn\u001b[39;00m stream\u001b[39m.\u001b[39mgetvalue()\n",
      "File \u001b[1;32md:\\MongoDB\\RPB\\rpb-venv\\lib\\site-packages\\IPython\\lib\\pretty.py:410\u001b[0m, in \u001b[0;36mRepresentationPrinter.pretty\u001b[1;34m(self, obj)\u001b[0m\n\u001b[0;32m    <a href='file:///d%3A/MongoDB/RPB/rpb-venv/lib/site-packages/IPython/lib/pretty.py?line=406'>407</a>\u001b[0m                         \u001b[39mreturn\u001b[39;00m meth(obj, \u001b[39mself\u001b[39m, cycle)\n\u001b[0;32m    <a href='file:///d%3A/MongoDB/RPB/rpb-venv/lib/site-packages/IPython/lib/pretty.py?line=407'>408</a>\u001b[0m                 \u001b[39mif\u001b[39;00m \u001b[39mcls\u001b[39m \u001b[39mis\u001b[39;00m \u001b[39mnot\u001b[39;00m \u001b[39mobject\u001b[39m \\\n\u001b[0;32m    <a href='file:///d%3A/MongoDB/RPB/rpb-venv/lib/site-packages/IPython/lib/pretty.py?line=408'>409</a>\u001b[0m                         \u001b[39mand\u001b[39;00m callable(\u001b[39mcls\u001b[39m\u001b[39m.\u001b[39m\u001b[39m__dict__\u001b[39m\u001b[39m.\u001b[39mget(\u001b[39m'\u001b[39m\u001b[39m__repr__\u001b[39m\u001b[39m'\u001b[39m)):\n\u001b[1;32m--> <a href='file:///d%3A/MongoDB/RPB/rpb-venv/lib/site-packages/IPython/lib/pretty.py?line=409'>410</a>\u001b[0m                     \u001b[39mreturn\u001b[39;00m _repr_pprint(obj, \u001b[39mself\u001b[39;49m, cycle)\n\u001b[0;32m    <a href='file:///d%3A/MongoDB/RPB/rpb-venv/lib/site-packages/IPython/lib/pretty.py?line=411'>412</a>\u001b[0m     \u001b[39mreturn\u001b[39;00m _default_pprint(obj, \u001b[39mself\u001b[39m, cycle)\n\u001b[0;32m    <a href='file:///d%3A/MongoDB/RPB/rpb-venv/lib/site-packages/IPython/lib/pretty.py?line=412'>413</a>\u001b[0m \u001b[39mfinally\u001b[39;00m:\n",
      "File \u001b[1;32md:\\MongoDB\\RPB\\rpb-venv\\lib\\site-packages\\IPython\\lib\\pretty.py:778\u001b[0m, in \u001b[0;36m_repr_pprint\u001b[1;34m(obj, p, cycle)\u001b[0m\n\u001b[0;32m    <a href='file:///d%3A/MongoDB/RPB/rpb-venv/lib/site-packages/IPython/lib/pretty.py?line=775'>776</a>\u001b[0m \u001b[39m\"\"\"A pprint that just redirects to the normal repr function.\"\"\"\u001b[39;00m\n\u001b[0;32m    <a href='file:///d%3A/MongoDB/RPB/rpb-venv/lib/site-packages/IPython/lib/pretty.py?line=776'>777</a>\u001b[0m \u001b[39m# Find newlines and replace them with p.break_()\u001b[39;00m\n\u001b[1;32m--> <a href='file:///d%3A/MongoDB/RPB/rpb-venv/lib/site-packages/IPython/lib/pretty.py?line=777'>778</a>\u001b[0m output \u001b[39m=\u001b[39m \u001b[39mrepr\u001b[39;49m(obj)\n\u001b[0;32m    <a href='file:///d%3A/MongoDB/RPB/rpb-venv/lib/site-packages/IPython/lib/pretty.py?line=778'>779</a>\u001b[0m lines \u001b[39m=\u001b[39m output\u001b[39m.\u001b[39msplitlines()\n\u001b[0;32m    <a href='file:///d%3A/MongoDB/RPB/rpb-venv/lib/site-packages/IPython/lib/pretty.py?line=779'>780</a>\u001b[0m \u001b[39mwith\u001b[39;00m p\u001b[39m.\u001b[39mgroup():\n",
      "File \u001b[1;32md:\\MongoDB\\RPB\\rpb-venv\\lib\\site-packages\\mongoengine\\queryset\\queryset.py:73\u001b[0m, in \u001b[0;36mQuerySet.__repr__\u001b[1;34m(self)\u001b[0m\n\u001b[0;32m     <a href='file:///d%3A/MongoDB/RPB/rpb-venv/lib/site-packages/mongoengine/queryset/queryset.py?line=69'>70</a>\u001b[0m \u001b[39mif\u001b[39;00m \u001b[39mself\u001b[39m\u001b[39m.\u001b[39m_iter:\n\u001b[0;32m     <a href='file:///d%3A/MongoDB/RPB/rpb-venv/lib/site-packages/mongoengine/queryset/queryset.py?line=70'>71</a>\u001b[0m     \u001b[39mreturn\u001b[39;00m \u001b[39m\"\u001b[39m\u001b[39m.. queryset mid-iteration ..\u001b[39m\u001b[39m\"\u001b[39m\n\u001b[1;32m---> <a href='file:///d%3A/MongoDB/RPB/rpb-venv/lib/site-packages/mongoengine/queryset/queryset.py?line=72'>73</a>\u001b[0m \u001b[39mself\u001b[39;49m\u001b[39m.\u001b[39;49m_populate_cache()\n\u001b[0;32m     <a href='file:///d%3A/MongoDB/RPB/rpb-venv/lib/site-packages/mongoengine/queryset/queryset.py?line=73'>74</a>\u001b[0m data \u001b[39m=\u001b[39m \u001b[39mself\u001b[39m\u001b[39m.\u001b[39m_result_cache[: REPR_OUTPUT_SIZE \u001b[39m+\u001b[39m \u001b[39m1\u001b[39m]\n\u001b[0;32m     <a href='file:///d%3A/MongoDB/RPB/rpb-venv/lib/site-packages/mongoengine/queryset/queryset.py?line=74'>75</a>\u001b[0m \u001b[39mif\u001b[39;00m \u001b[39mlen\u001b[39m(data) \u001b[39m>\u001b[39m REPR_OUTPUT_SIZE:\n",
      "File \u001b[1;32md:\\MongoDB\\RPB\\rpb-venv\\lib\\site-packages\\mongoengine\\queryset\\queryset.py:129\u001b[0m, in \u001b[0;36mQuerySet._populate_cache\u001b[1;34m(self)\u001b[0m\n\u001b[0;32m    <a href='file:///d%3A/MongoDB/RPB/rpb-venv/lib/site-packages/mongoengine/queryset/queryset.py?line=126'>127</a>\u001b[0m \u001b[39mtry\u001b[39;00m:\n\u001b[0;32m    <a href='file:///d%3A/MongoDB/RPB/rpb-venv/lib/site-packages/mongoengine/queryset/queryset.py?line=127'>128</a>\u001b[0m     \u001b[39mfor\u001b[39;00m _ \u001b[39min\u001b[39;00m \u001b[39mrange\u001b[39m(ITER_CHUNK_SIZE):\n\u001b[1;32m--> <a href='file:///d%3A/MongoDB/RPB/rpb-venv/lib/site-packages/mongoengine/queryset/queryset.py?line=128'>129</a>\u001b[0m         \u001b[39mself\u001b[39m\u001b[39m.\u001b[39m_result_cache\u001b[39m.\u001b[39mappend(\u001b[39mnext\u001b[39;49m(\u001b[39mself\u001b[39;49m))\n\u001b[0;32m    <a href='file:///d%3A/MongoDB/RPB/rpb-venv/lib/site-packages/mongoengine/queryset/queryset.py?line=129'>130</a>\u001b[0m \u001b[39mexcept\u001b[39;00m \u001b[39mStopIteration\u001b[39;00m:\n\u001b[0;32m    <a href='file:///d%3A/MongoDB/RPB/rpb-venv/lib/site-packages/mongoengine/queryset/queryset.py?line=130'>131</a>\u001b[0m     \u001b[39m# Getting this exception means there are no more docs in the\u001b[39;00m\n\u001b[0;32m    <a href='file:///d%3A/MongoDB/RPB/rpb-venv/lib/site-packages/mongoengine/queryset/queryset.py?line=131'>132</a>\u001b[0m     \u001b[39m# db cursor. Set _has_more to False so that we can use that\u001b[39;00m\n\u001b[0;32m    <a href='file:///d%3A/MongoDB/RPB/rpb-venv/lib/site-packages/mongoengine/queryset/queryset.py?line=132'>133</a>\u001b[0m     \u001b[39m# information in other places.\u001b[39;00m\n\u001b[0;32m    <a href='file:///d%3A/MongoDB/RPB/rpb-venv/lib/site-packages/mongoengine/queryset/queryset.py?line=133'>134</a>\u001b[0m     \u001b[39mself\u001b[39m\u001b[39m.\u001b[39m_has_more \u001b[39m=\u001b[39m \u001b[39mFalse\u001b[39;00m\n",
      "File \u001b[1;32md:\\MongoDB\\RPB\\rpb-venv\\lib\\site-packages\\mongoengine\\queryset\\base.py:1599\u001b[0m, in \u001b[0;36mBaseQuerySet.__next__\u001b[1;34m(self)\u001b[0m\n\u001b[0;32m   <a href='file:///d%3A/MongoDB/RPB/rpb-venv/lib/site-packages/mongoengine/queryset/base.py?line=1595'>1596</a>\u001b[0m \u001b[39mif\u001b[39;00m \u001b[39mself\u001b[39m\u001b[39m.\u001b[39m_as_pymongo:\n\u001b[0;32m   <a href='file:///d%3A/MongoDB/RPB/rpb-venv/lib/site-packages/mongoengine/queryset/base.py?line=1596'>1597</a>\u001b[0m     \u001b[39mreturn\u001b[39;00m raw_doc\n\u001b[1;32m-> <a href='file:///d%3A/MongoDB/RPB/rpb-venv/lib/site-packages/mongoengine/queryset/base.py?line=1598'>1599</a>\u001b[0m doc \u001b[39m=\u001b[39m \u001b[39mself\u001b[39;49m\u001b[39m.\u001b[39;49m_document\u001b[39m.\u001b[39;49m_from_son(\n\u001b[0;32m   <a href='file:///d%3A/MongoDB/RPB/rpb-venv/lib/site-packages/mongoengine/queryset/base.py?line=1599'>1600</a>\u001b[0m     raw_doc,\n\u001b[0;32m   <a href='file:///d%3A/MongoDB/RPB/rpb-venv/lib/site-packages/mongoengine/queryset/base.py?line=1600'>1601</a>\u001b[0m     _auto_dereference\u001b[39m=\u001b[39;49m\u001b[39mself\u001b[39;49m\u001b[39m.\u001b[39;49m_auto_dereference,\n\u001b[0;32m   <a href='file:///d%3A/MongoDB/RPB/rpb-venv/lib/site-packages/mongoengine/queryset/base.py?line=1601'>1602</a>\u001b[0m )\n\u001b[0;32m   <a href='file:///d%3A/MongoDB/RPB/rpb-venv/lib/site-packages/mongoengine/queryset/base.py?line=1603'>1604</a>\u001b[0m \u001b[39mif\u001b[39;00m \u001b[39mself\u001b[39m\u001b[39m.\u001b[39m_scalar:\n\u001b[0;32m   <a href='file:///d%3A/MongoDB/RPB/rpb-venv/lib/site-packages/mongoengine/queryset/base.py?line=1604'>1605</a>\u001b[0m     \u001b[39mreturn\u001b[39;00m \u001b[39mself\u001b[39m\u001b[39m.\u001b[39m_get_scalar(doc)\n",
      "File \u001b[1;32md:\\MongoDB\\RPB\\rpb-venv\\lib\\site-packages\\mongoengine\\base\\document.py:836\u001b[0m, in \u001b[0;36mBaseDocument._from_son\u001b[1;34m(cls, son, _auto_dereference, created)\u001b[0m\n\u001b[0;32m    <a href='file:///d%3A/MongoDB/RPB/rpb-venv/lib/site-packages/mongoengine/base/document.py?line=832'>833</a>\u001b[0m \u001b[39mif\u001b[39;00m \u001b[39mcls\u001b[39m\u001b[39m.\u001b[39mSTRICT:\n\u001b[0;32m    <a href='file:///d%3A/MongoDB/RPB/rpb-venv/lib/site-packages/mongoengine/base/document.py?line=833'>834</a>\u001b[0m     data \u001b[39m=\u001b[39m {k: v \u001b[39mfor\u001b[39;00m k, v \u001b[39min\u001b[39;00m data\u001b[39m.\u001b[39mitems() \u001b[39mif\u001b[39;00m k \u001b[39min\u001b[39;00m \u001b[39mcls\u001b[39m\u001b[39m.\u001b[39m_fields}\n\u001b[1;32m--> <a href='file:///d%3A/MongoDB/RPB/rpb-venv/lib/site-packages/mongoengine/base/document.py?line=835'>836</a>\u001b[0m obj \u001b[39m=\u001b[39m \u001b[39mcls\u001b[39;49m(__auto_convert\u001b[39m=\u001b[39;49m\u001b[39mFalse\u001b[39;49;00m, _created\u001b[39m=\u001b[39;49mcreated, \u001b[39m*\u001b[39;49m\u001b[39m*\u001b[39;49mdata)\n\u001b[0;32m    <a href='file:///d%3A/MongoDB/RPB/rpb-venv/lib/site-packages/mongoengine/base/document.py?line=836'>837</a>\u001b[0m obj\u001b[39m.\u001b[39m_changed_fields \u001b[39m=\u001b[39m []\n\u001b[0;32m    <a href='file:///d%3A/MongoDB/RPB/rpb-venv/lib/site-packages/mongoengine/base/document.py?line=837'>838</a>\u001b[0m \u001b[39mif\u001b[39;00m \u001b[39mnot\u001b[39;00m _auto_dereference:\n",
      "File \u001b[1;32md:\\MongoDB\\RPB\\rpb-venv\\lib\\site-packages\\mongoengine\\base\\document.py:99\u001b[0m, in \u001b[0;36mBaseDocument.__init__\u001b[1;34m(self, *args, **values)\u001b[0m\n\u001b[0;32m     <a href='file:///d%3A/MongoDB/RPB/rpb-venv/lib/site-packages/mongoengine/base/document.py?line=96'>97</a>\u001b[0m     \u001b[39mif\u001b[39;00m _undefined_fields:\n\u001b[0;32m     <a href='file:///d%3A/MongoDB/RPB/rpb-venv/lib/site-packages/mongoengine/base/document.py?line=97'>98</a>\u001b[0m         msg \u001b[39m=\u001b[39m \u001b[39mf\u001b[39m\u001b[39m'\u001b[39m\u001b[39mThe fields \u001b[39m\u001b[39m\"\u001b[39m\u001b[39m{\u001b[39;00m_undefined_fields\u001b[39m}\u001b[39;00m\u001b[39m\"\u001b[39m\u001b[39m do not exist on the document \u001b[39m\u001b[39m\"\u001b[39m\u001b[39m{\u001b[39;00m\u001b[39mself\u001b[39m\u001b[39m.\u001b[39m_class_name\u001b[39m}\u001b[39;00m\u001b[39m\"\u001b[39m\u001b[39m'\u001b[39m\n\u001b[1;32m---> <a href='file:///d%3A/MongoDB/RPB/rpb-venv/lib/site-packages/mongoengine/base/document.py?line=98'>99</a>\u001b[0m         \u001b[39mraise\u001b[39;00m FieldDoesNotExist(msg)\n\u001b[0;32m    <a href='file:///d%3A/MongoDB/RPB/rpb-venv/lib/site-packages/mongoengine/base/document.py?line=100'>101</a>\u001b[0m \u001b[39mif\u001b[39;00m \u001b[39mself\u001b[39m\u001b[39m.\u001b[39mSTRICT \u001b[39mand\u001b[39;00m \u001b[39mnot\u001b[39;00m \u001b[39mself\u001b[39m\u001b[39m.\u001b[39m_dynamic:\n\u001b[0;32m    <a href='file:///d%3A/MongoDB/RPB/rpb-venv/lib/site-packages/mongoengine/base/document.py?line=101'>102</a>\u001b[0m     \u001b[39mself\u001b[39m\u001b[39m.\u001b[39m_data \u001b[39m=\u001b[39m StrictDict\u001b[39m.\u001b[39mcreate(allowed_keys\u001b[39m=\u001b[39m\u001b[39mself\u001b[39m\u001b[39m.\u001b[39m_fields_ordered)()\n",
      "\u001b[1;31mFieldDoesNotExist\u001b[0m: The fields \"{'image'}\" do not exist on the document \"Book\""
     ]
    }
   ],
   "source": [
    "books_id=[book[\"_id\"] for book in list(User.objects.aggregate(interactions_pipeline))]\n",
    "Book.objects.filter(__raw__={\"_id\":{\"$in\":books_id}})"
   ]
  },
  {
   "cell_type": "code",
   "execution_count": 210,
   "metadata": {},
   "outputs": [
    {
     "name": "stdout",
     "output_type": "stream",
     "text": [
      "users: ['625a694dc38f7c7c75b3f0bc', '625a6d6fd1144018b9ac3e3b', '62629d6179e50a4eff48b1db', '626824ce9f4cdb6afb787b7b']\n",
      "books: ['62699f7f0dc5f49e8fc1b548', '62699fd30dc5f49e8fc1b549', '6269a0250dc5f49e8fc1b54a', '6269a0550dc5f49e8fc1b54b', '6269a9660dc5f49e8fc1b54c', '6269a9a40dc5f49e8fc1b54d', '6269a9cf0dc5f49e8fc1b54e']\n"
     ]
    },
    {
     "data": {
      "text/plain": [
       "<lightfm.lightfm.LightFM at 0x1fdd6711f70>"
      ]
     },
     "execution_count": 210,
     "metadata": {},
     "output_type": "execute_result"
    }
   ],
   "source": [
    "from lightfm import LightFM\n",
    "from lightfm.data import Dataset\n",
    "\n",
    "data=Dataset()\n",
    "model=LightFM()\n",
    "\n",
    "books_c=Book.objects.aggregate([{\"$project\":{\"_id\":1}}])\n",
    "users_c=User.objects.aggregate([{\"$project\":{\"_id\":1}}])\n",
    "books=[str(b['_id']) for b in list(books_c)]\n",
    "users=[str(u['_id']) for u in list(users_c)]\n",
    "print(\"users:\",users)\n",
    "print(\"books:\",books)\n",
    "data.fit(users,books)\n",
    "interactions_pipeline=[{\"$unwind\":\"$ratings\"},{\"$project\":{\"ratings.ID\" : 1,\"ratings.rating\" : 1}}]\n",
    "interactions_c=User.objects.aggregate(interactions_pipeline)\n",
    "interactions=[]\n",
    "for elm in list(interactions_c):\n",
    "    temp=[]\n",
    "    temp.append(str(list(elm.values())[0]))\n",
    "    temp.append(str(list(list(elm.values())[1].values())[0]))\n",
    "    temp.append(float(list(list(elm.values())[1].values())[1]))    \n",
    "    interactions.append(temp)\n",
    "mappings=Mapping.objects.first()\n",
    "(interactions,weights)=data.build_interactions(interactions)\n",
    "mappings.user_mapping,r,mappings.book_mapping,q,=data.mapping()\n",
    "mappings.save()\n",
    "model.fit(interactions,sample_weight=weights)\n"
   ]
  },
  {
   "cell_type": "markdown",
   "metadata": {},
   "source": []
  },
  {
   "cell_type": "code",
   "execution_count": 214,
   "metadata": {},
   "outputs": [
    {
     "data": {
      "text/plain": [
       "array([0.0522299 , 0.07234416, 0.0778123 , 0.09572192, 0.10269453,\n",
       "       0.04464534, 0.07140563], dtype=float32)"
      ]
     },
     "execution_count": 214,
     "metadata": {},
     "output_type": "execute_result"
    }
   ],
   "source": [
    "mappings=Mapping.objects.first()\n",
    "user_mappings=mappings.user_mapping\n",
    "book_mappings=mappings.book_mapping\n",
    "model.predict(3,list(book_mappings.values()))"
   ]
  },
  {
   "cell_type": "code",
   "execution_count": 212,
   "metadata": {},
   "outputs": [
    {
     "data": {
      "text/plain": [
       "'{\"_id\": {\"$oid\": \"6269aa453d3b7e43f89b64ae\"}, \"user_mapping\": {\"625a694dc38f7c7c75b3f0bc\": 0, \"625a6d6fd1144018b9ac3e3b\": 1, \"62629d6179e50a4eff48b1db\": 2, \"626824ce9f4cdb6afb787b7b\": 3}, \"book_mapping\": {\"62699f7f0dc5f49e8fc1b548\": 0, \"62699fd30dc5f49e8fc1b549\": 1, \"6269a0250dc5f49e8fc1b54a\": 2, \"6269a0550dc5f49e8fc1b54b\": 3, \"6269a9660dc5f49e8fc1b54c\": 4, \"6269a9a40dc5f49e8fc1b54d\": 5, \"6269a9cf0dc5f49e8fc1b54e\": 6}}'"
      ]
     },
     "execution_count": 212,
     "metadata": {},
     "output_type": "execute_result"
    }
   ],
   "source": [
    "mappings.to_json()"
   ]
  },
  {
   "cell_type": "code",
   "execution_count": 13,
   "metadata": {},
   "outputs": [],
   "source": [
    "import pandas as pd"
   ]
  },
  {
   "cell_type": "code",
   "execution_count": 14,
   "metadata": {},
   "outputs": [],
   "source": [
    "file=pd.read_csv(r\"C:\\Users\\saade\\Downloads\\archive\\main_dataset.csv\")"
   ]
  },
  {
   "cell_type": "code",
   "execution_count": 15,
   "metadata": {},
   "outputs": [],
   "source": [
    "filej=pd.read_json('books.json',lines=True)"
   ]
  },
  {
   "cell_type": "code",
   "execution_count": 6,
   "metadata": {},
   "outputs": [],
   "source": [
    "from lightfm import LightFM\n",
    "from lightfm.data import Dataset"
   ]
  },
  {
   "cell_type": "markdown",
   "metadata": {},
   "source": [
    "3 things I want to build for thi"
   ]
  },
  {
   "cell_type": "code",
   "execution_count": 7,
   "metadata": {},
   "outputs": [
    {
     "ename": "NameError",
     "evalue": "name 'Book' is not defined",
     "output_type": "error",
     "traceback": [
      "\u001b[1;31m---------------------------------------------------------------------------\u001b[0m",
      "\u001b[1;31mNameError\u001b[0m                                 Traceback (most recent call last)",
      "\u001b[1;32md:\\MongoDB\\RPB\\rpb\\recommender\\testing.ipynb Cell 13'\u001b[0m in \u001b[0;36m<cell line: 1>\u001b[1;34m()\u001b[0m\n\u001b[1;32m----> <a href='vscode-notebook-cell:/d%3A/MongoDB/RPB/rpb/recommender/testing.ipynb#ch0000011?line=0'>1</a>\u001b[0m Book\u001b[39m.\u001b[39mget()\n",
      "\u001b[1;31mNameError\u001b[0m: name 'Book' is not defined"
     ]
    }
   ],
   "source": [
    "filej.info()"
   ]
  },
  {
   "cell_type": "code",
   "execution_count": 16,
   "metadata": {},
   "outputs": [],
   "source": [
    "filej['isbn']=filej['isbn'].astype(str)\n",
    "file['isbn']=file['isbn'].astype(str)"
   ]
  },
  {
   "cell_type": "code",
   "execution_count": 17,
   "metadata": {},
   "outputs": [],
   "source": [
    "merge=pd.merge(file,filej,how='inner',on='isbn')"
   ]
  },
  {
   "cell_type": "code",
   "execution_count": 22,
   "metadata": {},
   "outputs": [
    {
     "data": {
      "text/html": [
       "<div>\n",
       "<style scoped>\n",
       "    .dataframe tbody tr th:only-of-type {\n",
       "        vertical-align: middle;\n",
       "    }\n",
       "\n",
       "    .dataframe tbody tr th {\n",
       "        vertical-align: top;\n",
       "    }\n",
       "\n",
       "    .dataframe thead th {\n",
       "        text-align: right;\n",
       "    }\n",
       "</style>\n",
       "<table border=\"1\" class=\"dataframe\">\n",
       "  <thead>\n",
       "    <tr style=\"text-align: right;\">\n",
       "      <th></th>\n",
       "      <th>image</th>\n",
       "      <th>name</th>\n",
       "      <th>author</th>\n",
       "      <th>format</th>\n",
       "      <th>book_depository_stars</th>\n",
       "      <th>price</th>\n",
       "      <th>currency</th>\n",
       "      <th>old_price</th>\n",
       "      <th>isbn</th>\n",
       "      <th>category</th>\n",
       "      <th>...</th>\n",
       "      <th>_id</th>\n",
       "      <th>title</th>\n",
       "      <th>pageCount</th>\n",
       "      <th>publishedDate</th>\n",
       "      <th>thumbnailUrl</th>\n",
       "      <th>shortDescription</th>\n",
       "      <th>longDescription</th>\n",
       "      <th>status</th>\n",
       "      <th>authors</th>\n",
       "      <th>categories</th>\n",
       "    </tr>\n",
       "  </thead>\n",
       "  <tbody>\n",
       "  </tbody>\n",
       "</table>\n",
       "<p>0 rows × 21 columns</p>\n",
       "</div>"
      ],
      "text/plain": [
       "Empty DataFrame\n",
       "Columns: [image, name, author, format, book_depository_stars, price, currency, old_price, isbn, category, img_paths, _id, title, pageCount, publishedDate, thumbnailUrl, shortDescription, longDescription, status, authors, categories]\n",
       "Index: []\n",
       "\n",
       "[0 rows x 21 columns]"
      ]
     },
     "execution_count": 22,
     "metadata": {},
     "output_type": "execute_result"
    }
   ],
   "source": [
    "merge"
   ]
  },
  {
   "cell_type": "code",
   "execution_count": 28,
   "metadata": {},
   "outputs": [
    {
     "name": "stdout",
     "output_type": "stream",
     "text": [
      "<class 'pandas.core.frame.DataFrame'>\n",
      "RangeIndex: 32581 entries, 0 to 32580\n",
      "Data columns (total 11 columns):\n",
      " #   Column                 Non-Null Count  Dtype  \n",
      "---  ------                 --------------  -----  \n",
      " 0   image                  32581 non-null  object \n",
      " 1   name                   32581 non-null  object \n",
      " 2   author                 32383 non-null  object \n",
      " 3   format                 32548 non-null  object \n",
      " 4   book_depository_stars  32581 non-null  float64\n",
      " 5   price                  32581 non-null  object \n",
      " 6   currency               32581 non-null  object \n",
      " 7   old_price              27467 non-null  float64\n",
      " 8   isbn                   32581 non-null  object \n",
      " 9   category               32581 non-null  object \n",
      " 10  img_paths              32581 non-null  object \n",
      "dtypes: float64(2), object(9)\n",
      "memory usage: 2.7+ MB\n"
     ]
    }
   ],
   "source": [
    "file.info()"
   ]
  },
  {
   "cell_type": "code",
   "execution_count": 5,
   "metadata": {},
   "outputs": [],
   "source": [
    "from models import *"
   ]
  },
  {
   "cell_type": "code",
   "execution_count": null,
   "metadata": {},
   "outputs": [],
   "source": []
  },
  {
   "cell_type": "code",
   "execution_count": 6,
   "metadata": {},
   "outputs": [
    {
     "data": {
      "text/plain": [
       "MongoClient(host=['localhost:27017'], document_class=dict, tz_aware=False, connect=True, read_preference=Primary(), uuidrepresentation=3)"
      ]
     },
     "execution_count": 6,
     "metadata": {},
     "output_type": "execute_result"
    }
   ],
   "source": [
    "connect(db='testing')"
   ]
  },
  {
   "cell_type": "code",
   "execution_count": 18,
   "metadata": {},
   "outputs": [],
   "source": [
    "import urllib.request\n",
    "from PIL import Image\n",
    "\n",
    "def InsertBook(r,):\n",
    "    try:\n",
    "        book=Book(title=r[1],author=r[2],isbn=r[8],genre=r[9])\n",
    "        try:\n",
    "            with open(r[10],'rb') as fd:\n",
    "                book.cover.put(fd,content_type=\"image/jpg\")\n",
    "        except IOError:\n",
    "            urllib.request.urlretrieve(r[10], 'temp.jpg')\n",
    "            with open('temp.jpg','wb') as fd:\n",
    "                book.cover.put(fd,content_type=\"image/jpg\")\n",
    "        book.save()\n",
    "        InsertBook.counter+=1\n",
    "        print ('rows inserted:',InsertBook.counter, end=\"\\r\")\n",
    "    except Exception as e:\n",
    "        print('not inserted:',e,end=\"\\r\")\n",
    "InsertBook.counter=0"
   ]
  },
  {
   "cell_type": "code",
   "execution_count": 19,
   "metadata": {},
   "outputs": [
    {
     "name": "stdout",
     "output_type": "stream",
     "text": [
      "rows inserted: 32383tionError (Book:None) (StringField only accepts string values: ['author'])\r"
     ]
    },
    {
     "data": {
      "text/plain": [
       "0        None\n",
       "1        None\n",
       "2        None\n",
       "3        None\n",
       "4        None\n",
       "         ... \n",
       "32576    None\n",
       "32577    None\n",
       "32578    None\n",
       "32579    None\n",
       "32580    None\n",
       "Length: 32581, dtype: object"
      ]
     },
     "execution_count": 19,
     "metadata": {},
     "output_type": "execute_result"
    }
   ],
   "source": [
    "file.apply(InsertBook,axis=1)"
   ]
  },
  {
   "cell_type": "code",
   "execution_count": 49,
   "metadata": {},
   "outputs": [
    {
     "ename": "FieldDoesNotExist",
     "evalue": "The fields \"{'isbn'}\" do not exist on the document \"Book\"",
     "output_type": "error",
     "traceback": [
      "\u001b[1;31m---------------------------------------------------------------------------\u001b[0m",
      "\u001b[1;31mFieldDoesNotExist\u001b[0m                         Traceback (most recent call last)",
      "\u001b[1;32md:\\MongoDB\\RPB\\rpb\\recommender\\testing.ipynb Cell 21'\u001b[0m in \u001b[0;36m<cell line: 1>\u001b[1;34m()\u001b[0m\n\u001b[1;32m----> <a href='vscode-notebook-cell:/d%3A/MongoDB/RPB/rpb/recommender/testing.ipynb#ch0000020?line=0'>1</a>\u001b[0m book\u001b[39m=\u001b[39mBook(title\u001b[39m=\u001b[39;49m\u001b[39m'\u001b[39;49m\u001b[39mfsdfs\u001b[39;49m\u001b[39m'\u001b[39;49m,author\u001b[39m=\u001b[39;49m\u001b[39m'\u001b[39;49m\u001b[39msdasd\u001b[39;49m\u001b[39m'\u001b[39;49m,genre\u001b[39m=\u001b[39;49m\u001b[39m'\u001b[39;49m\u001b[39msdasdsa\u001b[39;49m\u001b[39m'\u001b[39;49m,isbn\u001b[39m=\u001b[39;49m\u001b[39m'\u001b[39;49m\u001b[39msdas\u001b[39;49m\u001b[39m'\u001b[39;49m)\n",
      "File \u001b[1;32md:\\MongoDB\\RPB\\rpb-venv\\lib\\site-packages\\mongoengine\\base\\document.py:99\u001b[0m, in \u001b[0;36mBaseDocument.__init__\u001b[1;34m(self, *args, **values)\u001b[0m\n\u001b[0;32m     <a href='file:///d%3A/MongoDB/RPB/rpb-venv/lib/site-packages/mongoengine/base/document.py?line=96'>97</a>\u001b[0m     \u001b[39mif\u001b[39;00m _undefined_fields:\n\u001b[0;32m     <a href='file:///d%3A/MongoDB/RPB/rpb-venv/lib/site-packages/mongoengine/base/document.py?line=97'>98</a>\u001b[0m         msg \u001b[39m=\u001b[39m \u001b[39mf\u001b[39m\u001b[39m'\u001b[39m\u001b[39mThe fields \u001b[39m\u001b[39m\"\u001b[39m\u001b[39m{\u001b[39;00m_undefined_fields\u001b[39m}\u001b[39;00m\u001b[39m\"\u001b[39m\u001b[39m do not exist on the document \u001b[39m\u001b[39m\"\u001b[39m\u001b[39m{\u001b[39;00m\u001b[39mself\u001b[39m\u001b[39m.\u001b[39m_class_name\u001b[39m}\u001b[39;00m\u001b[39m\"\u001b[39m\u001b[39m'\u001b[39m\n\u001b[1;32m---> <a href='file:///d%3A/MongoDB/RPB/rpb-venv/lib/site-packages/mongoengine/base/document.py?line=98'>99</a>\u001b[0m         \u001b[39mraise\u001b[39;00m FieldDoesNotExist(msg)\n\u001b[0;32m    <a href='file:///d%3A/MongoDB/RPB/rpb-venv/lib/site-packages/mongoengine/base/document.py?line=100'>101</a>\u001b[0m \u001b[39mif\u001b[39;00m \u001b[39mself\u001b[39m\u001b[39m.\u001b[39mSTRICT \u001b[39mand\u001b[39;00m \u001b[39mnot\u001b[39;00m \u001b[39mself\u001b[39m\u001b[39m.\u001b[39m_dynamic:\n\u001b[0;32m    <a href='file:///d%3A/MongoDB/RPB/rpb-venv/lib/site-packages/mongoengine/base/document.py?line=101'>102</a>\u001b[0m     \u001b[39mself\u001b[39m\u001b[39m.\u001b[39m_data \u001b[39m=\u001b[39m StrictDict\u001b[39m.\u001b[39mcreate(allowed_keys\u001b[39m=\u001b[39m\u001b[39mself\u001b[39m\u001b[39m.\u001b[39m_fields_ordered)()\n",
      "\u001b[1;31mFieldDoesNotExist\u001b[0m: The fields \"{'isbn'}\" do not exist on the document \"Book\""
     ]
    }
   ],
   "source": [
    "book=Book(title='fsdfs',author='sdasd',genre='sdasdsa',isbn='sdas')"
   ]
  },
  {
   "cell_type": "code",
   "execution_count": null,
   "metadata": {},
   "outputs": [],
   "source": []
  }
 ],
 "metadata": {
  "interpreter": {
   "hash": "f40e6fce084ebd7c02ab5cac13b51cb33cb83d95f20b31e43c679c48cb0f37cb"
  },
  "kernelspec": {
   "display_name": "Python 3.10.1 64-bit (system)",
   "language": "python",
   "name": "python3"
  },
  "language_info": {
   "codemirror_mode": {
    "name": "ipython",
    "version": 3
   },
   "file_extension": ".py",
   "mimetype": "text/x-python",
   "name": "python",
   "nbconvert_exporter": "python",
   "pygments_lexer": "ipython3",
   "version": "3.8.8"
  },
  "orig_nbformat": 4
 },
 "nbformat": 4,
 "nbformat_minor": 2
}
